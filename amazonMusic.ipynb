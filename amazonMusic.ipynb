{
 "cells": [
  {
   "cell_type": "code",
   "execution_count": 2,
   "id": "913aefac",
   "metadata": {},
   "outputs": [],
   "source": [
    "import pandas as pd\n",
    "\n"
   ]
  },
  {
   "cell_type": "code",
   "execution_count": 3,
   "id": "f8916d73",
   "metadata": {},
   "outputs": [
    {
     "data": {
      "text/plain": [
       "(95837, 23)"
      ]
     },
     "execution_count": 3,
     "metadata": {},
     "output_type": "execute_result"
    }
   ],
   "source": [
    "AmazonMusic_df = pd.read_csv(\"single_genre_artists.csv\")\n",
    "AmazonMusic_df.shape"
   ]
  },
  {
   "cell_type": "code",
   "execution_count": 4,
   "id": "bcb390ff",
   "metadata": {},
   "outputs": [
    {
     "data": {
      "text/plain": [
       "id_songs               object\n",
       "name_song              object\n",
       "popularity_songs        int64\n",
       "duration_ms             int64\n",
       "explicit                int64\n",
       "id_artists             object\n",
       "release_date           object\n",
       "danceability          float64\n",
       "energy                float64\n",
       "key                     int64\n",
       "loudness              float64\n",
       "mode                    int64\n",
       "speechiness           float64\n",
       "acousticness          float64\n",
       "instrumentalness      float64\n",
       "liveness              float64\n",
       "valence               float64\n",
       "tempo                 float64\n",
       "time_signature          int64\n",
       "followers             float64\n",
       "genres                 object\n",
       "name_artists           object\n",
       "popularity_artists      int64\n",
       "dtype: object"
      ]
     },
     "execution_count": 4,
     "metadata": {},
     "output_type": "execute_result"
    }
   ],
   "source": [
    "AmazonMusic_df.dtypes"
   ]
  },
  {
   "cell_type": "code",
   "execution_count": 5,
   "id": "c0e207d3",
   "metadata": {},
   "outputs": [
    {
     "name": "stdout",
     "output_type": "stream",
     "text": [
      "<class 'pandas.core.frame.DataFrame'>\n",
      "RangeIndex: 95837 entries, 0 to 95836\n",
      "Data columns (total 23 columns):\n",
      " #   Column              Non-Null Count  Dtype  \n",
      "---  ------              --------------  -----  \n",
      " 0   id_songs            95837 non-null  object \n",
      " 1   name_song           95837 non-null  object \n",
      " 2   popularity_songs    95837 non-null  int64  \n",
      " 3   duration_ms         95837 non-null  int64  \n",
      " 4   explicit            95837 non-null  int64  \n",
      " 5   id_artists          95837 non-null  object \n",
      " 6   release_date        95837 non-null  object \n",
      " 7   danceability        95837 non-null  float64\n",
      " 8   energy              95837 non-null  float64\n",
      " 9   key                 95837 non-null  int64  \n",
      " 10  loudness            95837 non-null  float64\n",
      " 11  mode                95837 non-null  int64  \n",
      " 12  speechiness         95837 non-null  float64\n",
      " 13  acousticness        95837 non-null  float64\n",
      " 14  instrumentalness    95837 non-null  float64\n",
      " 15  liveness            95837 non-null  float64\n",
      " 16  valence             95837 non-null  float64\n",
      " 17  tempo               95837 non-null  float64\n",
      " 18  time_signature      95837 non-null  int64  \n",
      " 19  followers           95837 non-null  float64\n",
      " 20  genres              95837 non-null  object \n",
      " 21  name_artists        95837 non-null  object \n",
      " 22  popularity_artists  95837 non-null  int64  \n",
      "dtypes: float64(10), int64(7), object(6)\n",
      "memory usage: 16.8+ MB\n"
     ]
    }
   ],
   "source": [
    "AmazonMusic_df.info()"
   ]
  },
  {
   "cell_type": "code",
   "execution_count": 6,
   "id": "024a5b13",
   "metadata": {},
   "outputs": [
    {
     "name": "stdout",
     "output_type": "stream",
     "text": [
      "Number of duplicate rows: 0\n"
     ]
    }
   ],
   "source": [
    "duplicates = AmazonMusic_df.duplicated()\n",
    "print(f\"Number of duplicate rows: {duplicates.sum()}\")"
   ]
  },
  {
   "cell_type": "code",
   "execution_count": 7,
   "id": "825e9667",
   "metadata": {},
   "outputs": [],
   "source": [
    "AmazonMusic_df =   AmazonMusic_df.drop(columns=['popularity_songs',\n",
    "'id_artists',\n",
    "'release_date',\n",
    "'followers',\n",
    "'name_artists',  \n",
    "'popularity_artists'\n",
    "])"
   ]
  },
  {
   "cell_type": "code",
   "execution_count": 8,
   "id": "4231ceaf",
   "metadata": {},
   "outputs": [
    {
     "name": "stdout",
     "output_type": "stream",
     "text": [
      "<class 'pandas.core.frame.DataFrame'>\n",
      "RangeIndex: 95837 entries, 0 to 95836\n",
      "Data columns (total 17 columns):\n",
      " #   Column            Non-Null Count  Dtype  \n",
      "---  ------            --------------  -----  \n",
      " 0   id_songs          95837 non-null  object \n",
      " 1   name_song         95837 non-null  object \n",
      " 2   duration_ms       95837 non-null  int64  \n",
      " 3   explicit          95837 non-null  int64  \n",
      " 4   danceability      95837 non-null  float64\n",
      " 5   energy            95837 non-null  float64\n",
      " 6   key               95837 non-null  int64  \n",
      " 7   loudness          95837 non-null  float64\n",
      " 8   mode              95837 non-null  int64  \n",
      " 9   speechiness       95837 non-null  float64\n",
      " 10  acousticness      95837 non-null  float64\n",
      " 11  instrumentalness  95837 non-null  float64\n",
      " 12  liveness          95837 non-null  float64\n",
      " 13  valence           95837 non-null  float64\n",
      " 14  tempo             95837 non-null  float64\n",
      " 15  time_signature    95837 non-null  int64  \n",
      " 16  genres            95837 non-null  object \n",
      "dtypes: float64(9), int64(5), object(3)\n",
      "memory usage: 12.4+ MB\n"
     ]
    }
   ],
   "source": [
    "AmazonMusic_df.info()"
   ]
  },
  {
   "cell_type": "code",
   "execution_count": 9,
   "id": "97161c1a",
   "metadata": {},
   "outputs": [
    {
     "name": "stdout",
     "output_type": "stream",
     "text": [
      "genres\n",
      "['hoerspiel']                  8027\n",
      "['kleine hoerspiel']           2081\n",
      "[]                             1876\n",
      "['classic israeli pop']        1180\n",
      "['vintage taiwan pop']         1097\n",
      "                               ... \n",
      "['brazilian ska']                 1\n",
      "['spanish electropop']            1\n",
      "['italian mezzo-soprano']         1\n",
      "['german ccm']                    1\n",
      "['pinoy singer-songwriter']       1\n",
      "Name: count, Length: 3153, dtype: int64\n"
     ]
    }
   ],
   "source": [
    "counts = AmazonMusic_df['genres'].value_counts()\n",
    "print(counts)"
   ]
  },
  {
   "cell_type": "code",
   "execution_count": 10,
   "id": "d05b1f85",
   "metadata": {},
   "outputs": [
    {
     "data": {
      "text/plain": [
       "id_songs            0\n",
       "name_song           0\n",
       "duration_ms         0\n",
       "explicit            0\n",
       "danceability        0\n",
       "energy              0\n",
       "key                 0\n",
       "loudness            0\n",
       "mode                0\n",
       "speechiness         0\n",
       "acousticness        0\n",
       "instrumentalness    0\n",
       "liveness            0\n",
       "valence             0\n",
       "tempo               0\n",
       "time_signature      0\n",
       "genres              0\n",
       "dtype: int64"
      ]
     },
     "execution_count": 10,
     "metadata": {},
     "output_type": "execute_result"
    }
   ],
   "source": [
    "AmazonMusic_df.isnull().sum()"
   ]
  },
  {
   "cell_type": "code",
   "execution_count": 11,
   "id": "f11ef67c",
   "metadata": {},
   "outputs": [
    {
     "data": {
      "text/plain": [
       "id_songs             object\n",
       "name_song            object\n",
       "duration_ms           int64\n",
       "explicit              int64\n",
       "danceability        float64\n",
       "energy              float64\n",
       "key                   int64\n",
       "loudness            float64\n",
       "mode                  int64\n",
       "speechiness         float64\n",
       "acousticness        float64\n",
       "instrumentalness    float64\n",
       "liveness            float64\n",
       "valence             float64\n",
       "tempo               float64\n",
       "time_signature        int64\n",
       "genres               object\n",
       "dtype: object"
      ]
     },
     "execution_count": 11,
     "metadata": {},
     "output_type": "execute_result"
    }
   ],
   "source": [
    "AmazonMusic_df.dtypes"
   ]
  },
  {
   "cell_type": "code",
   "execution_count": 12,
   "id": "d72f080f",
   "metadata": {},
   "outputs": [],
   "source": [
    "AmazonMusic_df =   AmazonMusic_df.drop(columns=['id_songs'])"
   ]
  },
  {
   "cell_type": "code",
   "execution_count": 13,
   "id": "23d165b7",
   "metadata": {},
   "outputs": [
    {
     "data": {
      "text/html": [
       "<div>\n",
       "<style scoped>\n",
       "    .dataframe tbody tr th:only-of-type {\n",
       "        vertical-align: middle;\n",
       "    }\n",
       "\n",
       "    .dataframe tbody tr th {\n",
       "        vertical-align: top;\n",
       "    }\n",
       "\n",
       "    .dataframe thead th {\n",
       "        text-align: right;\n",
       "    }\n",
       "</style>\n",
       "<table border=\"1\" class=\"dataframe\">\n",
       "  <thead>\n",
       "    <tr style=\"text-align: right;\">\n",
       "      <th></th>\n",
       "      <th>name_song</th>\n",
       "      <th>duration_ms</th>\n",
       "      <th>explicit</th>\n",
       "      <th>danceability</th>\n",
       "      <th>energy</th>\n",
       "      <th>key</th>\n",
       "      <th>loudness</th>\n",
       "      <th>mode</th>\n",
       "      <th>speechiness</th>\n",
       "      <th>acousticness</th>\n",
       "      <th>instrumentalness</th>\n",
       "      <th>liveness</th>\n",
       "      <th>valence</th>\n",
       "      <th>tempo</th>\n",
       "      <th>time_signature</th>\n",
       "      <th>genres</th>\n",
       "    </tr>\n",
       "  </thead>\n",
       "  <tbody>\n",
       "    <tr>\n",
       "      <th>0</th>\n",
       "      <td>La Java</td>\n",
       "      <td>161427</td>\n",
       "      <td>0</td>\n",
       "      <td>0.563</td>\n",
       "      <td>0.184</td>\n",
       "      <td>4</td>\n",
       "      <td>-13.757</td>\n",
       "      <td>1</td>\n",
       "      <td>0.0512</td>\n",
       "      <td>0.993</td>\n",
       "      <td>0.000016</td>\n",
       "      <td>0.325</td>\n",
       "      <td>0.654</td>\n",
       "      <td>133.088</td>\n",
       "      <td>3</td>\n",
       "      <td>['vintage chanson']</td>\n",
       "    </tr>\n",
       "    <tr>\n",
       "      <th>1</th>\n",
       "      <td>En Douce</td>\n",
       "      <td>223440</td>\n",
       "      <td>0</td>\n",
       "      <td>0.427</td>\n",
       "      <td>0.180</td>\n",
       "      <td>10</td>\n",
       "      <td>-15.375</td>\n",
       "      <td>1</td>\n",
       "      <td>0.0670</td>\n",
       "      <td>0.989</td>\n",
       "      <td>0.000000</td>\n",
       "      <td>0.128</td>\n",
       "      <td>0.431</td>\n",
       "      <td>78.459</td>\n",
       "      <td>3</td>\n",
       "      <td>['vintage chanson']</td>\n",
       "    </tr>\n",
       "    <tr>\n",
       "      <th>2</th>\n",
       "      <td>J'en Ai Marre</td>\n",
       "      <td>208267</td>\n",
       "      <td>0</td>\n",
       "      <td>0.511</td>\n",
       "      <td>0.206</td>\n",
       "      <td>0</td>\n",
       "      <td>-15.514</td>\n",
       "      <td>1</td>\n",
       "      <td>0.0592</td>\n",
       "      <td>0.995</td>\n",
       "      <td>0.000000</td>\n",
       "      <td>0.418</td>\n",
       "      <td>0.481</td>\n",
       "      <td>70.443</td>\n",
       "      <td>4</td>\n",
       "      <td>['vintage chanson']</td>\n",
       "    </tr>\n",
       "    <tr>\n",
       "      <th>3</th>\n",
       "      <td>Ils n'ont pas ca</td>\n",
       "      <td>161933</td>\n",
       "      <td>0</td>\n",
       "      <td>0.676</td>\n",
       "      <td>0.467</td>\n",
       "      <td>9</td>\n",
       "      <td>-12.393</td>\n",
       "      <td>0</td>\n",
       "      <td>0.1650</td>\n",
       "      <td>0.991</td>\n",
       "      <td>0.000000</td>\n",
       "      <td>0.219</td>\n",
       "      <td>0.726</td>\n",
       "      <td>129.775</td>\n",
       "      <td>4</td>\n",
       "      <td>['vintage chanson']</td>\n",
       "    </tr>\n",
       "    <tr>\n",
       "      <th>4</th>\n",
       "      <td>La belote</td>\n",
       "      <td>167973</td>\n",
       "      <td>0</td>\n",
       "      <td>0.650</td>\n",
       "      <td>0.298</td>\n",
       "      <td>9</td>\n",
       "      <td>-13.806</td>\n",
       "      <td>1</td>\n",
       "      <td>0.1380</td>\n",
       "      <td>0.991</td>\n",
       "      <td>0.000000</td>\n",
       "      <td>0.373</td>\n",
       "      <td>0.844</td>\n",
       "      <td>75.950</td>\n",
       "      <td>4</td>\n",
       "      <td>['vintage chanson']</td>\n",
       "    </tr>\n",
       "  </tbody>\n",
       "</table>\n",
       "</div>"
      ],
      "text/plain": [
       "          name_song  duration_ms  explicit  danceability  energy  key  \\\n",
       "0           La Java       161427         0         0.563   0.184    4   \n",
       "1          En Douce       223440         0         0.427   0.180   10   \n",
       "2     J'en Ai Marre       208267         0         0.511   0.206    0   \n",
       "3  Ils n'ont pas ca       161933         0         0.676   0.467    9   \n",
       "4         La belote       167973         0         0.650   0.298    9   \n",
       "\n",
       "   loudness  mode  speechiness  acousticness  instrumentalness  liveness  \\\n",
       "0   -13.757     1       0.0512         0.993          0.000016     0.325   \n",
       "1   -15.375     1       0.0670         0.989          0.000000     0.128   \n",
       "2   -15.514     1       0.0592         0.995          0.000000     0.418   \n",
       "3   -12.393     0       0.1650         0.991          0.000000     0.219   \n",
       "4   -13.806     1       0.1380         0.991          0.000000     0.373   \n",
       "\n",
       "   valence    tempo  time_signature               genres  \n",
       "0    0.654  133.088               3  ['vintage chanson']  \n",
       "1    0.431   78.459               3  ['vintage chanson']  \n",
       "2    0.481   70.443               4  ['vintage chanson']  \n",
       "3    0.726  129.775               4  ['vintage chanson']  \n",
       "4    0.844   75.950               4  ['vintage chanson']  "
      ]
     },
     "execution_count": 13,
     "metadata": {},
     "output_type": "execute_result"
    }
   ],
   "source": [
    "AmazonMusic_df.head()"
   ]
  },
  {
   "cell_type": "code",
   "execution_count": 14,
   "id": "11facf8e",
   "metadata": {},
   "outputs": [],
   "source": [
    "AmazonMusic_df = AmazonMusic_df.drop(columns = ['genres'])"
   ]
  },
  {
   "cell_type": "code",
   "execution_count": 15,
   "id": "d84ef79e",
   "metadata": {},
   "outputs": [
    {
     "name": "stdout",
     "output_type": "stream",
     "text": [
      "<class 'pandas.core.frame.DataFrame'>\n",
      "RangeIndex: 95837 entries, 0 to 95836\n",
      "Data columns (total 15 columns):\n",
      " #   Column            Non-Null Count  Dtype  \n",
      "---  ------            --------------  -----  \n",
      " 0   name_song         95837 non-null  object \n",
      " 1   duration_ms       95837 non-null  int64  \n",
      " 2   explicit          95837 non-null  int64  \n",
      " 3   danceability      95837 non-null  float64\n",
      " 4   energy            95837 non-null  float64\n",
      " 5   key               95837 non-null  int64  \n",
      " 6   loudness          95837 non-null  float64\n",
      " 7   mode              95837 non-null  int64  \n",
      " 8   speechiness       95837 non-null  float64\n",
      " 9   acousticness      95837 non-null  float64\n",
      " 10  instrumentalness  95837 non-null  float64\n",
      " 11  liveness          95837 non-null  float64\n",
      " 12  valence           95837 non-null  float64\n",
      " 13  tempo             95837 non-null  float64\n",
      " 14  time_signature    95837 non-null  int64  \n",
      "dtypes: float64(9), int64(5), object(1)\n",
      "memory usage: 11.0+ MB\n"
     ]
    }
   ],
   "source": [
    "AmazonMusic_df.info()"
   ]
  },
  {
   "cell_type": "code",
   "execution_count": 16,
   "id": "29c02b1e",
   "metadata": {},
   "outputs": [],
   "source": [
    "AmazonMusic_df = AmazonMusic_df.drop(columns=['name_song'])"
   ]
  },
  {
   "cell_type": "code",
   "execution_count": 17,
   "id": "86c8171c",
   "metadata": {},
   "outputs": [],
   "source": [
    "from sklearn.preprocessing import StandardScaler\n",
    "\n",
    "scaler = StandardScaler()\n",
    "scaled_data = scaler.fit_transform(AmazonMusic_df)"
   ]
  },
  {
   "cell_type": "code",
   "execution_count": 19,
   "id": "d70de17e",
   "metadata": {},
   "outputs": [
    {
     "name": "stdout",
     "output_type": "stream",
     "text": [
      "[[-1.99259218  0.42028851 -0.66731318]\n",
      " [-2.85425462 -0.42204337  0.01830562]\n",
      " [-2.52854642  0.34088149 -0.63624061]\n",
      " ...\n",
      " [-4.32830625  0.07372091 -2.71940102]\n",
      " [-4.99891301 -0.73649733 -1.56758479]\n",
      " [-0.33539392 -1.30493936  0.10145223]]\n"
     ]
    }
   ],
   "source": [
    "from sklearn.decomposition import PCA\n",
    "\n",
    "pca = PCA(n_components=3)\n",
    "principal_components = pca.fit_transform(scaled_data)\n",
    "print(principal_components)"
   ]
  },
  {
   "cell_type": "code",
   "execution_count": 21,
   "id": "93d4d089",
   "metadata": {},
   "outputs": [
    {
     "data": {
      "text/plain": [
       "<mpl_toolkits.mplot3d.art3d.Path3DCollection at 0x1aa1fc59e80>"
      ]
     },
     "execution_count": 21,
     "metadata": {},
     "output_type": "execute_result"
    },
    {
     "data": {
      "image/png": "[encoded data removed]",
      "text/plain": [
       "<Figure size 640x480 with 1 Axes>"
      ]
     },
     "metadata": {},
     "output_type": "display_data"
    }
   ],
   "source": [
    "from mpl_toolkits.mplot3d import Axes3D\n",
    "import matplotlib.pyplot as plt\n",
    "fig = plt.figure()\n",
    "ax = fig.add_subplot(111, projection='3d')\n",
    "ax.set_xlabel('Principal Component 1')\n",
    "ax.set_ylabel('Principal Component 2')\n",
    "ax.set_zlabel('Principal Component 3')\n",
    "ax.scatter(principal_components[:, 0], principal_components[:, 1], principal_components[:, 2])"
   ]
  },
  {
   "cell_type": "code",
   "execution_count": 22,
   "id": "683191e0",
   "metadata": {},
   "outputs": [
    {
     "data": {
      "image/png": "[encoded data removed]",
      "text/plain": [
       "<Figure size 640x480 with 1 Axes>"
      ]
     },
     "metadata": {},
     "output_type": "display_data"
    }
   ],
   "source": [
    "from sklearn.cluster import KMeans\n",
    "from sklearn.preprocessing import StandardScaler\n",
    "import matplotlib.pyplot as plt\n",
    "\n",
    "# Assuming 'data' is your dataset\n",
    "\n",
    "# Step 1: Scale the data\n",
    "scaler = StandardScaler()\n",
    "scaled_data = scaler.fit_transform(AmazonMusic_df)\n",
    "\n",
    "# Step 2: Determine optimal k (optional, using Elbow Method)\n",
    "wcss = []\n",
    "for k in range(1, 10):\n",
    "    kmeans = KMeans(n_clusters=k, random_state=42)\n",
    "    kmeans.fit(scaled_data)\n",
    "    wcss.append(kmeans.inertia_)\n",
    "\n",
    "plt.plot(range(1, 10), wcss, marker='o')\n",
    "plt.xlabel('Number of clusters (k)')\n",
    "plt.ylabel('Within-Cluster Sum of Squares (WCSS)')\n",
    "plt.title('Elbow Method for Optimal k')\n",
    "plt.show()\n",
    "\n",
    "# Based on the plot, choose the k (e.g., k=3)\n",
    "k = 3\n",
    "kmeans = KMeans(n_clusters=k, random_state=42)\n",
    "clusters = kmeans.fit_predict(scaled_data)\n"
   ]
  }
 ],
 "metadata": {
  "kernelspec": {
   "display_name": "Python 3",
   "language": "python",
   "name": "python3"
  },
  "language_info": {
   "codemirror_mode": {
    "name": "ipython",
    "version": 3
   },
   "file_extension": ".py",
   "mimetype": "text/x-python",
   "name": "python",
   "nbconvert_exporter": "python",
   "pygments_lexer": "ipython3",
   "version": "3.13.3"
  }
 },
 "nbformat": 4,
 "nbformat_minor": 5
}
